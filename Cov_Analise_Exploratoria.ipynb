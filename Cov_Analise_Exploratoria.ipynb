{
 "cells": [
  {
   "cell_type": "markdown",
   "metadata": {},
   "source": [
    "# Estudo de dados da COVID-19 no Brasil\n",
    "\n",
    "### Análise Exploratória \n",
    "\n",
    "Autor:Geraldo Aparecido da Silva\n",
    "\n",
    "fonte dos dados:https://github.com/wcota/covid19br\n"
   ]
  },
  {
   "cell_type": "code",
   "execution_count": 7,
   "metadata": {},
   "outputs": [
    {
     "name": "stdout",
     "output_type": "stream",
     "text": [
      "['date', 'country', 'state', 'city', 'ibgeID', 'novasMortes', 'mortes', 'novosCasos', 'totalCasos', 'deaths_per_100k_inhabitants', 'totalCases_per_100k_inhabitants', 'deaths_by_totalCases', 'source']\n"
     ]
    }
   ],
   "source": [
    "import pandas as pd\n",
    "#Fonte do dataset --> https://raw.githubusercontent.com/wcota/covid19br/master/cases-brazil-cities-time.csv\n",
    "dataset = \"https://raw.githubusercontent.com/wcota/covid19br/master/cases-brazil-cities-time.csv\"\n",
    "\n",
    "#criando objeto para manipular dataset\n",
    "\n",
    "df = pd.read_csv(dataset, header=None,skiprows=1)\n",
    "\n",
    "# colocar head no dataset\n",
    "cabecalho = [\"date\",\"country\",\"state\",\"city\",\"ibgeID\",\"novasMortes\",\"mortes\",\"novosCasos\",\"totalCasos\",\"deaths_per_100k_inhabitants\",\"totalCases_per_100k_inhabitants\",\"deaths_by_totalCases\",\"source\"]\n",
    "print(cabecalho)\n",
    "\n",
    "df.columns = cabecalho"
   ]
  },
  {
   "cell_type": "code",
   "execution_count": 8,
   "metadata": {},
   "outputs": [
    {
     "data": {
      "text/html": [
       "<div>\n",
       "<style scoped>\n",
       "    .dataframe tbody tr th:only-of-type {\n",
       "        vertical-align: middle;\n",
       "    }\n",
       "\n",
       "    .dataframe tbody tr th {\n",
       "        vertical-align: top;\n",
       "    }\n",
       "\n",
       "    .dataframe thead th {\n",
       "        text-align: right;\n",
       "    }\n",
       "</style>\n",
       "<table border=\"1\" class=\"dataframe\">\n",
       "  <thead>\n",
       "    <tr style=\"text-align: right;\">\n",
       "      <th></th>\n",
       "      <th>date</th>\n",
       "      <th>country</th>\n",
       "      <th>state</th>\n",
       "      <th>city</th>\n",
       "      <th>ibgeID</th>\n",
       "      <th>novasMortes</th>\n",
       "      <th>mortes</th>\n",
       "      <th>novosCasos</th>\n",
       "      <th>totalCasos</th>\n",
       "      <th>deaths_per_100k_inhabitants</th>\n",
       "      <th>totalCases_per_100k_inhabitants</th>\n",
       "      <th>deaths_by_totalCases</th>\n",
       "      <th>source</th>\n",
       "    </tr>\n",
       "  </thead>\n",
       "  <tbody>\n",
       "    <tr>\n",
       "      <th>0</th>\n",
       "      <td>2020-02-25</td>\n",
       "      <td>Brazil</td>\n",
       "      <td>SP</td>\n",
       "      <td>São Paulo/SP</td>\n",
       "      <td>3550308</td>\n",
       "      <td>0</td>\n",
       "      <td>0</td>\n",
       "      <td>1</td>\n",
       "      <td>1</td>\n",
       "      <td>0.0</td>\n",
       "      <td>0.00816</td>\n",
       "      <td>0.0</td>\n",
       "      <td>SES</td>\n",
       "    </tr>\n",
       "  </tbody>\n",
       "</table>\n",
       "</div>"
      ],
      "text/plain": [
       "         date country state          city   ibgeID  novasMortes  mortes  \\\n",
       "0  2020-02-25  Brazil    SP  São Paulo/SP  3550308            0       0   \n",
       "\n",
       "   novosCasos  totalCasos  deaths_per_100k_inhabitants  \\\n",
       "0           1           1                          0.0   \n",
       "\n",
       "   totalCases_per_100k_inhabitants  deaths_by_totalCases source  \n",
       "0                          0.00816                   0.0    SES  "
      ]
     },
     "execution_count": 8,
     "metadata": {},
     "output_type": "execute_result"
    }
   ],
   "source": [
    "df.head(1)"
   ]
  },
  {
   "cell_type": "code",
   "execution_count": 9,
   "metadata": {},
   "outputs": [
    {
     "data": {
      "text/html": [
       "<div>\n",
       "<style scoped>\n",
       "    .dataframe tbody tr th:only-of-type {\n",
       "        vertical-align: middle;\n",
       "    }\n",
       "\n",
       "    .dataframe tbody tr th {\n",
       "        vertical-align: top;\n",
       "    }\n",
       "\n",
       "    .dataframe thead th {\n",
       "        text-align: right;\n",
       "    }\n",
       "</style>\n",
       "<table border=\"1\" class=\"dataframe\">\n",
       "  <thead>\n",
       "    <tr style=\"text-align: right;\">\n",
       "      <th></th>\n",
       "      <th>date</th>\n",
       "      <th>country</th>\n",
       "      <th>state</th>\n",
       "      <th>city</th>\n",
       "      <th>ibgeID</th>\n",
       "      <th>novasMortes</th>\n",
       "      <th>mortes</th>\n",
       "      <th>novosCasos</th>\n",
       "      <th>totalCasos</th>\n",
       "      <th>deaths_per_100k_inhabitants</th>\n",
       "      <th>totalCases_per_100k_inhabitants</th>\n",
       "      <th>deaths_by_totalCases</th>\n",
       "      <th>source</th>\n",
       "    </tr>\n",
       "  </thead>\n",
       "  <tbody>\n",
       "    <tr>\n",
       "      <th>110706</th>\n",
       "      <td>2020-05-23</td>\n",
       "      <td>Brazil</td>\n",
       "      <td>TOTAL</td>\n",
       "      <td>TOTAL</td>\n",
       "      <td>0</td>\n",
       "      <td>1056</td>\n",
       "      <td>22205</td>\n",
       "      <td>17544</td>\n",
       "      <td>351492</td>\n",
       "      <td>10.56641</td>\n",
       "      <td>167.25996</td>\n",
       "      <td>0.06317</td>\n",
       "      <td>NaN</td>\n",
       "    </tr>\n",
       "  </tbody>\n",
       "</table>\n",
       "</div>"
      ],
      "text/plain": [
       "              date country  state   city  ibgeID  novasMortes  mortes  \\\n",
       "110706  2020-05-23  Brazil  TOTAL  TOTAL       0         1056   22205   \n",
       "\n",
       "        novosCasos  totalCasos  deaths_per_100k_inhabitants  \\\n",
       "110706       17544      351492                     10.56641   \n",
       "\n",
       "        totalCases_per_100k_inhabitants  deaths_by_totalCases source  \n",
       "110706                        167.25996               0.06317    NaN  "
      ]
     },
     "execution_count": 9,
     "metadata": {},
     "output_type": "execute_result"
    }
   ],
   "source": [
    "df.tail(1)"
   ]
  },
  {
   "cell_type": "code",
   "execution_count": 10,
   "metadata": {},
   "outputs": [
    {
     "data": {
      "text/html": [
       "<div>\n",
       "<style scoped>\n",
       "    .dataframe tbody tr th:only-of-type {\n",
       "        vertical-align: middle;\n",
       "    }\n",
       "\n",
       "    .dataframe tbody tr th {\n",
       "        vertical-align: top;\n",
       "    }\n",
       "\n",
       "    .dataframe thead th {\n",
       "        text-align: right;\n",
       "    }\n",
       "</style>\n",
       "<table border=\"1\" class=\"dataframe\">\n",
       "  <thead>\n",
       "    <tr style=\"text-align: right;\">\n",
       "      <th></th>\n",
       "      <th>novasMortes</th>\n",
       "      <th>mortes</th>\n",
       "      <th>novosCasos</th>\n",
       "      <th>totalCasos</th>\n",
       "    </tr>\n",
       "  </thead>\n",
       "  <tbody>\n",
       "    <tr>\n",
       "      <th>count</th>\n",
       "      <td>110707.000000</td>\n",
       "      <td>110707.000000</td>\n",
       "      <td>110707.000000</td>\n",
       "      <td>110707.000000</td>\n",
       "    </tr>\n",
       "    <tr>\n",
       "      <th>mean</th>\n",
       "      <td>0.401239</td>\n",
       "      <td>6.672171</td>\n",
       "      <td>6.353618</td>\n",
       "      <td>101.350032</td>\n",
       "    </tr>\n",
       "    <tr>\n",
       "      <th>std</th>\n",
       "      <td>11.792591</td>\n",
       "      <td>212.234486</td>\n",
       "      <td>191.837155</td>\n",
       "      <td>3175.186850</td>\n",
       "    </tr>\n",
       "    <tr>\n",
       "      <th>min</th>\n",
       "      <td>-128.000000</td>\n",
       "      <td>0.000000</td>\n",
       "      <td>-1192.000000</td>\n",
       "      <td>0.000000</td>\n",
       "    </tr>\n",
       "    <tr>\n",
       "      <th>25%</th>\n",
       "      <td>0.000000</td>\n",
       "      <td>0.000000</td>\n",
       "      <td>0.000000</td>\n",
       "      <td>1.000000</td>\n",
       "    </tr>\n",
       "    <tr>\n",
       "      <th>50%</th>\n",
       "      <td>0.000000</td>\n",
       "      <td>0.000000</td>\n",
       "      <td>0.000000</td>\n",
       "      <td>3.000000</td>\n",
       "    </tr>\n",
       "    <tr>\n",
       "      <th>75%</th>\n",
       "      <td>0.000000</td>\n",
       "      <td>1.000000</td>\n",
       "      <td>1.000000</td>\n",
       "      <td>12.000000</td>\n",
       "    </tr>\n",
       "    <tr>\n",
       "      <th>max</th>\n",
       "      <td>1115.000000</td>\n",
       "      <td>22205.000000</td>\n",
       "      <td>21189.000000</td>\n",
       "      <td>351492.000000</td>\n",
       "    </tr>\n",
       "  </tbody>\n",
       "</table>\n",
       "</div>"
      ],
      "text/plain": [
       "         novasMortes         mortes     novosCasos     totalCasos\n",
       "count  110707.000000  110707.000000  110707.000000  110707.000000\n",
       "mean        0.401239       6.672171       6.353618     101.350032\n",
       "std        11.792591     212.234486     191.837155    3175.186850\n",
       "min      -128.000000       0.000000   -1192.000000       0.000000\n",
       "25%         0.000000       0.000000       0.000000       1.000000\n",
       "50%         0.000000       0.000000       0.000000       3.000000\n",
       "75%         0.000000       1.000000       1.000000      12.000000\n",
       "max      1115.000000   22205.000000   21189.000000  351492.000000"
      ]
     },
     "execution_count": 10,
     "metadata": {},
     "output_type": "execute_result"
    }
   ],
   "source": [
    "#criando novo datadrame\n",
    "casos_mortes = df[['novasMortes','mortes' ,'novosCasos', 'totalCasos']]\n",
    "\n",
    "#dados estatísticos do dados\n",
    "casos_mortes.describe()"
   ]
  },
  {
   "cell_type": "markdown",
   "metadata": {},
   "source": [
    "<h4>Correlação estatística </h4>\n",
    "\n",
    "Coefficient of Correlation: Statistical correlation is measured by what is called the coefficient of correlation (r). Its numerical value ranges from +1.0 to -1.0.It gives us an indication of both the strength and direction of the relationship between variables. [https://explorable.com/statistical-correlation](https://explorable.com/statistical-correlation)"
   ]
  },
  {
   "cell_type": "code",
   "execution_count": 11,
   "metadata": {},
   "outputs": [
    {
     "data": {
      "text/html": [
       "<div>\n",
       "<style scoped>\n",
       "    .dataframe tbody tr th:only-of-type {\n",
       "        vertical-align: middle;\n",
       "    }\n",
       "\n",
       "    .dataframe tbody tr th {\n",
       "        vertical-align: top;\n",
       "    }\n",
       "\n",
       "    .dataframe thead th {\n",
       "        text-align: right;\n",
       "    }\n",
       "</style>\n",
       "<table border=\"1\" class=\"dataframe\">\n",
       "  <thead>\n",
       "    <tr style=\"text-align: right;\">\n",
       "      <th></th>\n",
       "      <th>novasMortes</th>\n",
       "      <th>mortes</th>\n",
       "      <th>novosCasos</th>\n",
       "      <th>totalCasos</th>\n",
       "    </tr>\n",
       "  </thead>\n",
       "  <tbody>\n",
       "    <tr>\n",
       "      <th>novasMortes</th>\n",
       "      <td>1.000000</td>\n",
       "      <td>0.963534</td>\n",
       "      <td>0.970580</td>\n",
       "      <td>0.959259</td>\n",
       "    </tr>\n",
       "    <tr>\n",
       "      <th>mortes</th>\n",
       "      <td>0.963534</td>\n",
       "      <td>1.000000</td>\n",
       "      <td>0.966647</td>\n",
       "      <td>0.996902</td>\n",
       "    </tr>\n",
       "    <tr>\n",
       "      <th>novosCasos</th>\n",
       "      <td>0.970580</td>\n",
       "      <td>0.966647</td>\n",
       "      <td>1.000000</td>\n",
       "      <td>0.971939</td>\n",
       "    </tr>\n",
       "    <tr>\n",
       "      <th>totalCasos</th>\n",
       "      <td>0.959259</td>\n",
       "      <td>0.996902</td>\n",
       "      <td>0.971939</td>\n",
       "      <td>1.000000</td>\n",
       "    </tr>\n",
       "  </tbody>\n",
       "</table>\n",
       "</div>"
      ],
      "text/plain": [
       "             novasMortes    mortes  novosCasos  totalCasos\n",
       "novasMortes     1.000000  0.963534    0.970580    0.959259\n",
       "mortes          0.963534  1.000000    0.966647    0.996902\n",
       "novosCasos      0.970580  0.966647    1.000000    0.971939\n",
       "totalCasos      0.959259  0.996902    0.971939    1.000000"
      ]
     },
     "execution_count": 11,
     "metadata": {},
     "output_type": "execute_result"
    }
   ],
   "source": [
    "#calculando correlação\n",
    "casos_mortes.corr()"
   ]
  },
  {
   "cell_type": "code",
   "execution_count": 12,
   "metadata": {},
   "outputs": [
    {
     "name": "stdout",
     "output_type": "stream",
     "text": [
      "Pearson  0.9969024125883783  P-value  = 0.0\n"
     ]
    }
   ],
   "source": [
    "from scipy import stats\n",
    "import numpy as np\n",
    "\n",
    "pearson_coef, p_value = stats.pearsonr(casos_mortes['totalCasos'], df['mortes'])\n",
    "print(\"Pearson \", pearson_coef, \" P-value  =\", p_value)"
   ]
  },
  {
   "cell_type": "code",
   "execution_count": 13,
   "metadata": {},
   "outputs": [
    {
     "name": "stdout",
     "output_type": "stream",
     "text": [
      "Pearson  0.9666472409924077  P-value  = 0.0\n"
     ]
    }
   ],
   "source": [
    "pearson_coef, p_value = stats.pearsonr(casos_mortes['novosCasos'], df['mortes'])\n",
    "print(\"Pearson \", pearson_coef, \" P-value  =\", p_value)"
   ]
  },
  {
   "cell_type": "code",
   "execution_count": 14,
   "metadata": {},
   "outputs": [
    {
     "name": "stdout",
     "output_type": "stream",
     "text": [
      "Pearson  0.970579562885256  P-value  = 0.0\n"
     ]
    }
   ],
   "source": [
    "pearson_coef, p_value = stats.pearsonr(casos_mortes['novosCasos'], df['novasMortes'])\n",
    "print(\"Pearson \", pearson_coef, \" P-value  =\", p_value)  "
   ]
  },
  {
   "cell_type": "markdown",
   "metadata": {},
   "source": [
    "<H4> Gerando gráficos </H4>"
   ]
  },
  {
   "cell_type": "code",
   "execution_count": 15,
   "metadata": {},
   "outputs": [],
   "source": [
    "import matplotlib.pyplot as plt\n",
    "import seaborn as sns\n",
    "%matplotlib inline "
   ]
  },
  {
   "cell_type": "code",
   "execution_count": 16,
   "metadata": {},
   "outputs": [
    {
     "name": "stderr",
     "output_type": "stream",
     "text": [
      "/home/geraldo/.pyenv/versions/anaconda3-2018.12/lib/python3.7/site-packages/scipy/stats/stats.py:1713: FutureWarning: Using a non-tuple sequence for multidimensional indexing is deprecated; use `arr[tuple(seq)]` instead of `arr[seq]`. In the future this will be interpreted as an array index, `arr[np.array(seq)]`, which will result either in an error or a different result.\n",
      "  return np.add.reduce(sorted[indexer] * weights, axis=axis) / sumval\n"
     ]
    },
    {
     "data": {
      "text/html": [
       "<div>\n",
       "<style scoped>\n",
       "    .dataframe tbody tr th:only-of-type {\n",
       "        vertical-align: middle;\n",
       "    }\n",
       "\n",
       "    .dataframe tbody tr th {\n",
       "        vertical-align: top;\n",
       "    }\n",
       "\n",
       "    .dataframe thead th {\n",
       "        text-align: right;\n",
       "    }\n",
       "</style>\n",
       "<table border=\"1\" class=\"dataframe\">\n",
       "  <thead>\n",
       "    <tr style=\"text-align: right;\">\n",
       "      <th></th>\n",
       "      <th>totalCasos</th>\n",
       "      <th>mortes</th>\n",
       "    </tr>\n",
       "  </thead>\n",
       "  <tbody>\n",
       "    <tr>\n",
       "      <th>totalCasos</th>\n",
       "      <td>1.000000</td>\n",
       "      <td>0.996902</td>\n",
       "    </tr>\n",
       "    <tr>\n",
       "      <th>mortes</th>\n",
       "      <td>0.996902</td>\n",
       "      <td>1.000000</td>\n",
       "    </tr>\n",
       "  </tbody>\n",
       "</table>\n",
       "</div>"
      ],
      "text/plain": [
       "            totalCasos    mortes\n",
       "totalCasos    1.000000  0.996902\n",
       "mortes        0.996902  1.000000"
      ]
     },
     "execution_count": 16,
     "metadata": {},
     "output_type": "execute_result"
    },
    {
     "data": {
      "image/png": "[encoded data removed]",
      "text/plain": [
       "<Figure size 432x288 with 1 Axes>"
      ]
     },
     "metadata": {
      "needs_background": "light"
     },
     "output_type": "display_data"
    }
   ],
   "source": [
    "sns.regplot(x=\"totalCasos\",y=\"mortes\", data=casos_mortes)\n",
    "plt.ylim(0,)\n",
    "\n",
    "#correlação\n",
    "casos_mortes[['totalCasos', 'mortes']].corr()"
   ]
  },
  {
   "cell_type": "code",
   "execution_count": 17,
   "metadata": {},
   "outputs": [
    {
     "data": {
      "text/html": [
       "<div>\n",
       "<style scoped>\n",
       "    .dataframe tbody tr th:only-of-type {\n",
       "        vertical-align: middle;\n",
       "    }\n",
       "\n",
       "    .dataframe tbody tr th {\n",
       "        vertical-align: top;\n",
       "    }\n",
       "\n",
       "    .dataframe thead th {\n",
       "        text-align: right;\n",
       "    }\n",
       "</style>\n",
       "<table border=\"1\" class=\"dataframe\">\n",
       "  <thead>\n",
       "    <tr style=\"text-align: right;\">\n",
       "      <th></th>\n",
       "      <th>novosCasos</th>\n",
       "      <th>mortes</th>\n",
       "    </tr>\n",
       "  </thead>\n",
       "  <tbody>\n",
       "    <tr>\n",
       "      <th>novosCasos</th>\n",
       "      <td>1.000000</td>\n",
       "      <td>0.966647</td>\n",
       "    </tr>\n",
       "    <tr>\n",
       "      <th>mortes</th>\n",
       "      <td>0.966647</td>\n",
       "      <td>1.000000</td>\n",
       "    </tr>\n",
       "  </tbody>\n",
       "</table>\n",
       "</div>"
      ],
      "text/plain": [
       "            novosCasos    mortes\n",
       "novosCasos    1.000000  0.966647\n",
       "mortes        0.966647  1.000000"
      ]
     },
     "execution_count": 17,
     "metadata": {},
     "output_type": "execute_result"
    },
    {
     "data": {
      "image/png": "[encoded data removed]",
      "text/plain": [
       "<Figure size 432x288 with 1 Axes>"
      ]
     },
     "metadata": {
      "needs_background": "light"
     },
     "output_type": "display_data"
    }
   ],
   "source": [
    "sns.regplot(x=\"novosCasos\",y=\"mortes\", data=casos_mortes)\n",
    "plt.ylim(0,)\n",
    "\n",
    "#correlação\n",
    "casos_mortes[['novosCasos', 'mortes']].corr()"
   ]
  },
  {
   "cell_type": "code",
   "execution_count": 18,
   "metadata": {},
   "outputs": [
    {
     "data": {
      "text/html": [
       "<div>\n",
       "<style scoped>\n",
       "    .dataframe tbody tr th:only-of-type {\n",
       "        vertical-align: middle;\n",
       "    }\n",
       "\n",
       "    .dataframe tbody tr th {\n",
       "        vertical-align: top;\n",
       "    }\n",
       "\n",
       "    .dataframe thead th {\n",
       "        text-align: right;\n",
       "    }\n",
       "</style>\n",
       "<table border=\"1\" class=\"dataframe\">\n",
       "  <thead>\n",
       "    <tr style=\"text-align: right;\">\n",
       "      <th></th>\n",
       "      <th>novosCasos</th>\n",
       "      <th>novasMortes</th>\n",
       "    </tr>\n",
       "  </thead>\n",
       "  <tbody>\n",
       "    <tr>\n",
       "      <th>novosCasos</th>\n",
       "      <td>1.00000</td>\n",
       "      <td>0.97058</td>\n",
       "    </tr>\n",
       "    <tr>\n",
       "      <th>novasMortes</th>\n",
       "      <td>0.97058</td>\n",
       "      <td>1.00000</td>\n",
       "    </tr>\n",
       "  </tbody>\n",
       "</table>\n",
       "</div>"
      ],
      "text/plain": [
       "             novosCasos  novasMortes\n",
       "novosCasos      1.00000      0.97058\n",
       "novasMortes     0.97058      1.00000"
      ]
     },
     "execution_count": 18,
     "metadata": {},
     "output_type": "execute_result"
    },
    {
     "data": {
      "image/png": "[encoded data removed]",
      "text/plain": [
       "<Figure size 432x288 with 1 Axes>"
      ]
     },
     "metadata": {
      "needs_background": "light"
     },
     "output_type": "display_data"
    }
   ],
   "source": [
    "sns.regplot(x=\"novosCasos\",y=\"novasMortes\", data=casos_mortes)\n",
    "plt.ylim(0,)\n",
    "\n",
    "#correlação\n",
    "casos_mortes[['novosCasos', 'novasMortes']].corr()"
   ]
  },
  {
   "cell_type": "markdown",
   "metadata": {},
   "source": [
    "<h3>1. Regressão Linear Simples</h3>"
   ]
  },
  {
   "cell_type": "code",
   "execution_count": 19,
   "metadata": {},
   "outputs": [],
   "source": [
    "# para calcular modelos de previsão usamos :\n",
    "\n",
    "from sklearn.linear_model import LinearRegression"
   ]
  },
  {
   "cell_type": "code",
   "execution_count": 20,
   "metadata": {},
   "outputs": [],
   "source": [
    "#instaciando objeto \n",
    "\n",
    "reg_lin_sim = LinearRegression()"
   ]
  },
  {
   "cell_type": "code",
   "execution_count": 21,
   "metadata": {},
   "outputs": [
    {
     "data": {
      "text/plain": [
       "LinearRegression(copy_X=True, fit_intercept=True, n_jobs=None,\n",
       "         normalize=False)"
      ]
     },
     "execution_count": 21,
     "metadata": {},
     "output_type": "execute_result"
    }
   ],
   "source": [
    "# modelo de regressão linear de mortes por covid-19 em relação  total de casos\n",
    "\n",
    "X = df[['totalCasos']]\n",
    "Y = df['mortes']\n",
    "\n",
    "reg_lin_sim.fit(X,Y)"
   ]
  },
  {
   "cell_type": "code",
   "execution_count": 22,
   "metadata": {},
   "outputs": [
    {
     "data": {
      "text/plain": [
       "12231.4815"
      ]
     },
     "execution_count": 22,
     "metadata": {},
     "output_type": "execute_result"
    }
   ],
   "source": [
    "#Yhat=reg_lin_sim.predict(X)\n",
    "#Yhat[5000:6000]  \n",
    "178045*0.0687 - 0.21"
   ]
  },
  {
   "cell_type": "code",
   "execution_count": 23,
   "metadata": {},
   "outputs": [
    {
     "data": {
      "text/plain": [
       "-0.08124065892242616"
      ]
     },
     "execution_count": 23,
     "metadata": {},
     "output_type": "execute_result"
    }
   ],
   "source": [
    "reg_lin_sim.intercept_ \n"
   ]
  },
  {
   "cell_type": "code",
   "execution_count": null,
   "metadata": {},
   "outputs": [],
   "source": []
  },
  {
   "cell_type": "code",
   "execution_count": 24,
   "metadata": {},
   "outputs": [
    {
     "data": {
      "text/plain": [
       "array([0.06663453])"
      ]
     },
     "execution_count": 24,
     "metadata": {},
     "output_type": "execute_result"
    }
   ],
   "source": [
    "reg_lin_sim.coef_"
   ]
  }
 ],
 "metadata": {
  "kernelspec": {
   "display_name": "Python 3",
   "language": "python",
   "name": "python3"
  },
  "language_info": {
   "codemirror_mode": {
    "name": "ipython",
    "version": 3
   },
   "file_extension": ".py",
   "mimetype": "text/x-python",
   "name": "python",
   "nbconvert_exporter": "python",
   "pygments_lexer": "ipython3",
   "version": "3.7.1"
  }
 },
 "nbformat": 4,
 "nbformat_minor": 2
}
